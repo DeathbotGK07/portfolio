{
 "cells": [
  {
   "cell_type": "markdown",
   "metadata": {},
   "source": [
    "Un routeur Cisco series 800 prends en charge des fonctionnalités tel qu'un VPN, une sécurité intégré, de la connectivité sans fil et de la téléphonie IP, centré pour les petites entreprises pour 498€ avec 8 ports."
   ]
  },
  {
   "cell_type": "markdown",
   "metadata": {},
   "source": [
    "Un switch Cisco 2960 pour 334,80€ avec 16 ports.\n",
    "\n",
    "https://www.googleadservices.com/pagead/aclk?sa=L&ai=DChcSEwiIhZChqvyJAxXfmmgJHVQHMiQYABAVGgJ3Zg&co=1&gclid=Cj0KCQiAo5u6BhDJARIsAAVoDWvhI7ganhLHzmrJk2FrUnbNwZMGH4WDMOrwYE0oi_Iwe0bYj4HYvPUaAlo4EALw_wcB&ohost=www.google.com&cid=CAESVOD2n_DmUVf-mnwbX9BPNSfIzQ1JmZU1P5knFL7XRLq-quSe793enUvWKVL88je-Zm86dqJtWqtKhOCYTm2bhOCr5PHbMxSMJUQ2YUvBoSeXdFD3Ew&sig=AOD64_0TwiFA5d-acXFNbuDqZo14aVC1fA&ctype=5&q=&ved=2ahUKEwjXgYuhqvyJAxWFUaQEHSIFJVwQ9aACKAB6BAgJEBM&adurl="
   ]
  },
  {
   "cell_type": "code",
   "execution_count": null,
   "metadata": {
    "vscode": {
     "languageId": "plaintext"
    }
   },
   "outputs": [],
   "source": [
    "5 tour PC DELL à 311,50€*5=1557.5€\n"
   ]
  },
  {
   "cell_type": "markdown",
   "metadata": {},
   "source": [
    "4 moniteur DELL à 74€*4=300€"
   ]
  },
  {
   "cell_type": "code",
   "execution_count": null,
   "metadata": {
    "vscode": {
     "languageId": "plaintext"
    }
   },
   "outputs": [],
   "source": [
    "6 câbles rj45 5€*6=30€"
   ]
  },
  {
   "cell_type": "markdown",
   "metadata": {},
   "source": [
    "4 clavier souris pour 13.99€=55,96€"
   ]
  },
  {
   "cell_type": "markdown",
   "metadata": {},
   "source": [
    "Total=16 776€"
   ]
  }
 ],
 "metadata": {
  "language_info": {
   "name": "python"
  }
 },
 "nbformat": 4,
 "nbformat_minor": 2
}
